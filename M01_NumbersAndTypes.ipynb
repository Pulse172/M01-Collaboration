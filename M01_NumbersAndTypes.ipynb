{
 "cells": [
  {
   "cell_type": "code",
   "execution_count": null,
   "id": "641cd316",
   "metadata": {},
   "outputs": [],
   "source": [
    "SecPerMin = 60\n",
    "MinPerHour = 60\n"
   ]
  },
  {
   "cell_type": "markdown",
   "id": "0063ff37",
   "metadata": {},
   "source": [
    "3.1 Assigned numbers to the variables SecPerMin and MinPerHour"
   ]
  },
  {
   "cell_type": "code",
   "execution_count": 22,
   "id": "a14bf3b3",
   "metadata": {},
   "outputs": [],
   "source": [
    "seconds_per_hour = SecPerMin  * MinPerHour"
   ]
  },
  {
   "cell_type": "markdown",
   "id": "b5bf6af9",
   "metadata": {},
   "source": [
    "3.2 Assigned the result of the previous task to seconds_per_hour"
   ]
  },
  {
   "cell_type": "code",
   "execution_count": 10,
   "id": "29cc27d2",
   "metadata": {},
   "outputs": [
    {
     "data": {
      "text/plain": [
       "86400"
      ]
     },
     "execution_count": 10,
     "metadata": {},
     "output_type": "execute_result"
    }
   ],
   "source": [
    "seconds_per_hour * 24"
   ]
  },
  {
   "cell_type": "markdown",
   "id": "a1578459",
   "metadata": {},
   "source": [
    "3.3 Formula to get seconds per day"
   ]
  },
  {
   "cell_type": "code",
   "execution_count": 11,
   "id": "919f1b40",
   "metadata": {},
   "outputs": [],
   "source": [
    "seconds_per_day = seconds_per_hour * 24"
   ]
  },
  {
   "cell_type": "markdown",
   "id": "9601feb4",
   "metadata": {},
   "source": [
    "3.4 saved the result in seconds_per_day"
   ]
  },
  {
   "cell_type": "code",
   "execution_count": 13,
   "id": "a28982aa",
   "metadata": {},
   "outputs": [
    {
     "data": {
      "text/plain": [
       "24.0"
      ]
     },
     "execution_count": 13,
     "metadata": {},
     "output_type": "execute_result"
    }
   ],
   "source": [
    "seconds_per_day/seconds_per_hour"
   ]
  },
  {
   "cell_type": "markdown",
   "id": "756ca996",
   "metadata": {},
   "source": [
    "3.5 Divided seconds_per_day by seconds_per_hour to get hours per day as a floating point number."
   ]
  },
  {
   "cell_type": "code",
   "execution_count": 14,
   "id": "e87853a2",
   "metadata": {},
   "outputs": [
    {
     "data": {
      "text/plain": [
       "24"
      ]
     },
     "execution_count": 14,
     "metadata": {},
     "output_type": "execute_result"
    }
   ],
   "source": [
    "seconds_per_day//seconds_per_hour"
   ]
  },
  {
   "cell_type": "markdown",
   "id": "29cfd5ce",
   "metadata": {},
   "source": [
    "3.6 Divided seconds_per_day by seconds_per_hour to get hours per day as an integer. This number is the same as the floating point value."
   ]
  }
 ],
 "metadata": {
  "kernelspec": {
   "display_name": "Python 3 (ipykernel)",
   "language": "python",
   "name": "python3"
  },
  "language_info": {
   "codemirror_mode": {
    "name": "ipython",
    "version": 3
   },
   "file_extension": ".py",
   "mimetype": "text/x-python",
   "name": "python",
   "nbconvert_exporter": "python",
   "pygments_lexer": "ipython3",
   "version": "3.11.4"
  }
 },
 "nbformat": 4,
 "nbformat_minor": 5
}
